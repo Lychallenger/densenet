{
 "cells": [
  {
   "cell_type": "code",
   "execution_count": null,
   "metadata": {},
   "outputs": [],
   "source": [
    "import pandas as pd\n",
    "import cv2\n",
    "from imutils import paths\n",
    "from sklearn.model_selection import train_test_split\n",
    "from keras.preprocessing.image import img_to_array\n",
    "from keras.utils import np_utils\n",
    "import pickle as pkl\n",
    "from keras.optimizers import SGD\n",
    "import keras.backend as K\n",
    "# We only test DenseNet-121 in this script for demo purpose\n",
    "from densenet161 import DenseNet \n",
    "import numpy as np \n",
    "import tensorflow as tf\n",
    "import keras.backend.tensorflow_backend as KTF\n",
    "from keras.models import load_model\n",
    "import cv2\n",
    "import numpy as np\n",
    "from keras.optimizers import SGD\n",
    "import keras.backend as K\n",
    "from keras.models import Model\n",
    "from keras.layers import Input, merge, ZeroPadding2D\n",
    "from keras.layers.core import Dense, Dropout, Activation\n",
    "from keras.layers.convolutional import Convolution2D\n",
    "from keras.layers.pooling import AveragePooling2D, GlobalAveragePooling2D, MaxPooling2D\n",
    "from keras.layers.normalization import BatchNormalization \n",
    "from imutils import paths\n",
    "from sklearn.model_selection import train_test_split\n",
    "from keras.preprocessing.image import img_to_array\n",
    "from keras.utils import np_utils\n",
    "import pickle as pkl\n",
    "import tensorflow as tf\n",
    "import keras.backend.tensorflow_backend as KTF\n",
    "config = tf.ConfigProto()\n",
    "config.gpu_options.allow_growth=True   #不全部占满显存, 按需分配\n",
    "sess = tf.Session(config=config)\n",
    "KTF.set_session(sess)"
   ]
  },
  {
   "cell_type": "code",
   "execution_count": null,
   "metadata": {
    "collapsed": true
   },
   "outputs": [],
   "source": [
    "nb_class=29"
   ]
  },
  {
   "cell_type": "code",
   "execution_count": null,
   "metadata": {
    "collapsed": true
   },
   "outputs": [],
   "source": [
    "def load_data(data_path='data.pkl',label_path='label.pkl'):\n",
    "    pkl_data_file = open('data.pkl', 'rb')\n",
    "    pkl_label_file=open('label.pkl','rb')\n",
    "    data = pkl.load(pkl_data_file)\n",
    "    label=pkl.load(pkl_label_file)\n",
    "    return data,label"
   ]
  },
  {
   "cell_type": "code",
   "execution_count": null,
   "metadata": {
    "collapsed": true
   },
   "outputs": [],
   "source": [
    "def predict_data(p_path=\"data/test\",model_path=\"imagenet_models/new_dense_weight.h5\"):\n",
    "\timage_paths = sorted(list(paths.list_images(p_path)))\n",
    "\tdata=[]\n",
    "\timage_name=[]\n",
    "\tfor im_path in image_paths:\n",
    "\t\timage=cv2.imread(im_path)\n",
    "\t\timage=cv2.resize(image,(224,224))\n",
    "\t\timage = img_to_array(image)\n",
    "\t\timage[:,:,0] = (image[:,:,0] - 103.94) * 0.017\n",
    "\t\timage[:,:,1] = (image[:,:,1] - 116.78) * 0.017\n",
    "\t\timage[:,:,2] = (image[:,:,2] - 123.68) * 0.017\n",
    "\t\tdata.append(image)\n",
    "\t\timage_name.append(im_path.split('/')[2])\n",
    "\tdata = np.array(data, dtype=\"float32\")#transfer to numpy\n",
    "\tmodel = DenseNet(reduction=0.5, classes=nb_class, weights_path=model_path)\n",
    "\tsgd = SGD(lr=1e-2, decay=1e-6, momentum=0.9, nesterov=True)\n",
    "\tmodel.compile(optimizer=sgd, loss='categorical_crossentropy', metrics=['accuracy'])\n",
    "\tout= model.predict(data)\n",
    "\tlabel=np.argmax(out[0])\n",
    "\tprint(type(label))\n",
    "\tprint(label)\n",
    "\tprint(label.shape)\n",
    "\tpredict_label = pd.read_csv(\"data/submit_example.csv\")\n",
    "\tfor i in range(predict_label.values.shape[0]):\n",
    "\t\tfind_name=predict_label.values[i][0]\n",
    "\t\tfor j in range(data.shape[0]):\n",
    "\t\t\tif find_name==image_name[j]:\n",
    "\t\t\t\tpredict_label.iat[i,1]=np.argmax(out[j])+1\n",
    "\tpredict_label.to_csv(\"data/predict.csv\",index=False)"
   ]
  },
  {
   "cell_type": "code",
   "execution_count": null,
   "metadata": {
    "collapsed": true
   },
   "outputs": [],
   "source": [
    "\n",
    "def load_new_model(weight_path='imagenet_models/densenet161_weights_tf.h5'):\n",
    "\tbase_model = DenseNet(reduction=0.5, classes=1000, weights_path=weight_path)\n",
    "\t# model = Model(input=base_model.input, output=base_model.get_layer('conv5_blk_scale').output)\n",
    "\tx=base_model.get_layer('conv5_blk_scale').output\n",
    "\tx = Activation('relu', name='relu_last')(x)\n",
    "\tx=GlobalAveragePooling2D(name='pool_last')(x)\n",
    "\tx= Dense(nb_class, name='fc_last')(x)\n",
    "\tx=Activation('softmax', name='prob_last')(x)\n",
    "\tmodel=Model(input=base_model.input,output=x,name='new_densenet')\n",
    "\tfor layer in model.layers[:-4]:\n",
    "\t    layer.trainable = False\n",
    "\treturn model\n",
    "\n"
   ]
  },
  {
   "cell_type": "code",
   "execution_count": null,
   "metadata": {
    "collapsed": true
   },
   "outputs": [],
   "source": [
    "def train_data(data,label,model):\n",
    "    (trainX, testX, trainY, testY) = train_test_split(data,\n",
    "        label, test_size=0.2, random_state=42)\n",
    "    sgd = SGD(lr=1e-2, decay=1e-6, momentum=0.9, nesterov=True)\n",
    "    model.compile(optimizer=sgd, loss='categorical_crossentropy', metrics=['accuracy'])\n",
    "    model.fit(trainX,trainY,batch_size=100,epochs=5,verbose=1,validation_data=(testX,testY))\n",
    "    model.save_weights('imagenet_models/new_dense_weight.h5')\n",
    "    model.save('imagenet_models/new_densenet.h5')\n",
    "    score = model.evaluate(testX,testY,verbose=0)\n",
    "    print ('accuracy:{}'.format(score[1]))"
   ]
  },
  {
   "cell_type": "code",
   "execution_count": null,
   "metadata": {
    "collapsed": true
   },
   "outputs": [],
   "source": [
    "def predict_data(p_path=\"data/test\",model_path=\"imagenet_models/new_dense_weight.h5\"):\n",
    "    image_paths = sorted(list(paths.list_images(p_path)))\n",
    "    data=[]\n",
    "    image_name=[]\n",
    "    for im_path in image_paths:\n",
    "        image=cv2.imread(im_path)\n",
    "        image=cv2.resize(image,(224,224))\n",
    "        image = img_to_array(image)\n",
    "        image[:,:,0] = (image[:,:,0] - 103.94) * 0.017\n",
    "        image[:,:,1] = (image[:,:,1] - 116.78) * 0.017\n",
    "        image[:,:,2] = (image[:,:,2] - 123.68) * 0.017\n",
    "        data.append(image)\n",
    "        image_name.append(im_path.split('/')[2])\n",
    "    data = np.array(data, dtype=\"float32\")#transfer to numpy\n",
    "    model = DenseNet(reduction=0.5, classes=nb_class, weights_path=model_path)\n",
    "    sgd = SGD(lr=1e-2, decay=1e-6, momentum=0.9, nesterov=True)\n",
    "    model.compile(optimizer=sgd, loss='categorical_crossentropy', metrics=['accuracy'])\n",
    "    out= model.predict(data)\n",
    "    return out\n",
    "# \tlabel=np.argmax(out[0])\n",
    "# \tprint(type(label))\n",
    "# \tprint(label)\n",
    "# \tprint(label.shape)\n",
    "# \tpredict_label = pd.read_csv(\"data/submit_example.csv\")\n",
    "# \tfor i in range(predict_label.values.shape[0]):\n",
    "# \t\tfind_name=predict_label.values[i][0]\n",
    "# \t\tfor j in range(data.shape[0]):\n",
    "# \t\t\tif find_name==image_name[j]:\n",
    "# \t\t\t\tpredict_label.iat[i,1]=np.argmax(out[j])+1\n",
    "# \tpredict_label.to_csv(\"data/predict.csv\",index=False)"
   ]
  },
  {
   "cell_type": "code",
   "execution_count": null,
   "metadata": {},
   "outputs": [],
   "source": [
    "# load data then train data\n",
    "data,label=load_data()\n",
    "print(len(label))\n",
    "label_out=np.zeros((len(label),nb_class))\n",
    "                \n",
    "for i in range(len(label)):\n",
    "    t=0\n",
    "    for j in range(len(label[i])):\n",
    "        tmp=label[i][j]\n",
    "        tmp=np.array(tmp)\n",
    "        tmp=np_utils.to_categorical(tmp,nb_class)\n",
    "        t=t+tmp\n",
    "        label_out[i]=t\n",
    "data_out = np.array(data, dtype=\"float32\")\n",
    "model=load_new_model()\n",
    "train_data(data_out,label_out,model)"
   ]
  },
  {
   "cell_type": "code",
   "execution_count": null,
   "metadata": {
    "collapsed": true
   },
   "outputs": [],
   "source": [
    "#predict data\n",
    "out=predict_data()"
   ]
  },
  {
   "cell_type": "code",
   "execution_count": null,
   "metadata": {
    "collapsed": true
   },
   "outputs": [],
   "source": [
    "p_path=\"data/test\"\n",
    "image_paths = sorted(list(paths.list_images(p_path)))\n",
    "image_name=[]\n",
    "for im_path in image_paths:\n",
    "    image_name.append(im_path.split('/')[2])\n",
    "predict_label = pd.read_csv(\"data/submit_example.csv\")\n",
    "for i in range(predict_label.values.shape[0]):\n",
    "    find_name=predict_label.values[i][0]\n",
    "    for j in range(len(image_name)):\n",
    "        if find_name==image_name[j]:\n",
    "            tmp_out=out[j]\n",
    "            list_t=[]\n",
    "            for m in range(tmp_out.shape[0]):\n",
    "                if tmp_out[m]>0.2:\n",
    "                    list_t.append(m+1)\n",
    "            if len(list_t)==0:\n",
    "                print(image_name[j])\n",
    "                list_t.append(np.argmax(tmp_out))\n",
    "            str_s=\"\"\n",
    "            for n in range(len(list_t)):\n",
    "                str_s=str_s+str(list_t[n])\n",
    "                if n!=len(list_t)-1:\n",
    "                    str_s=str_s+\";\"\n",
    "            predict_label.iloc[i,1]=str_s\n",
    "predict_label.to_csv(\"data/predict.csv\",index=False)"
   ]
  },
  {
   "cell_type": "code",
   "execution_count": null,
   "metadata": {
    "collapsed": true
   },
   "outputs": [],
   "source": []
  },
  {
   "cell_type": "code",
   "execution_count": null,
   "metadata": {
    "collapsed": true
   },
   "outputs": [],
   "source": []
  },
  {
   "cell_type": "code",
   "execution_count": null,
   "metadata": {
    "collapsed": true
   },
   "outputs": [],
   "source": []
  }
 ],
 "metadata": {
  "kernelspec": {
   "display_name": "Python 3",
   "language": "python",
   "name": "python3"
  },
  "language_info": {
   "codemirror_mode": {
    "name": "ipython",
    "version": 3
   },
   "file_extension": ".py",
   "mimetype": "text/x-python",
   "name": "python",
   "nbconvert_exporter": "python",
   "pygments_lexer": "ipython3",
   "version": "3.5.2"
  }
 },
 "nbformat": 4,
 "nbformat_minor": 2
}
